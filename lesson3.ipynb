{
 "cells": [
  {
   "cell_type": "code",
   "execution_count": 1,
   "metadata": {},
   "outputs": [
    {
     "name": "stdout",
     "output_type": "stream",
     "text": [
      "安裝1:vscode\n",
      "安裝2:mini-conda\n",
      "安裝3:git\n"
     ]
    }
   ],
   "source": [
    "print('安裝1:vscode')\n",
    "print('安裝2:mini-conda')\n",
    "print('安裝3:git')"
   ]
  },
  {
   "cell_type": "code",
   "execution_count": 2,
   "metadata": {},
   "outputs": [
    {
     "name": "stdout",
     "output_type": "stream",
     "text": [
      "15\n",
      "-5\n",
      "50\n",
      "3.3333333333333335\n",
      "3\n",
      "27\n",
      "1\n"
     ]
    }
   ],
   "source": [
    "print(5 + 10)\n",
    "print(5 - 10)\n",
    "print(5 * 10)\n",
    "print(10 / 3)\n",
    "print(10 // 3)\n",
    "print(3 ** 3)\n",
    "print(10 % 3)"
   ]
  }
 ],
 "metadata": {
  "kernelspec": {
   "display_name": "base",
   "language": "python",
   "name": "python3"
  },
  "language_info": {
   "codemirror_mode": {
    "name": "ipython",
    "version": 3
   },
   "file_extension": ".py",
   "mimetype": "text/x-python",
   "name": "python",
   "nbconvert_exporter": "python",
   "pygments_lexer": "ipython3",
   "version": "3.12.3"
  }
 },
 "nbformat": 4,
 "nbformat_minor": 2
}
